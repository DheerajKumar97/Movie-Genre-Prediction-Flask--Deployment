{
 "cells": [
  {
   "cell_type": "code",
   "execution_count": 1,
   "metadata": {},
   "outputs": [],
   "source": [
    "import pandas as pd\n",
    "import numpy as np\n",
    "import matplotlib.pyplot as plt\n",
    "import seaborn as sns\n",
    "%matplotlib inline\n",
    "import warnings\n",
    "warnings.filterwarnings(\"ignore\")"
   ]
  },
  {
   "cell_type": "code",
   "execution_count": 2,
   "metadata": {},
   "outputs": [
    {
     "data": {
      "text/html": [
       "<div>\n",
       "<style scoped>\n",
       "    .dataframe tbody tr th:only-of-type {\n",
       "        vertical-align: middle;\n",
       "    }\n",
       "\n",
       "    .dataframe tbody tr th {\n",
       "        vertical-align: top;\n",
       "    }\n",
       "\n",
       "    .dataframe thead th {\n",
       "        text-align: right;\n",
       "    }\n",
       "</style>\n",
       "<table border=\"1\" class=\"dataframe\">\n",
       "  <thead>\n",
       "    <tr style=\"text-align: right;\">\n",
       "      <th></th>\n",
       "      <th>id</th>\n",
       "      <th>text</th>\n",
       "      <th>genre</th>\n",
       "    </tr>\n",
       "  </thead>\n",
       "  <tbody>\n",
       "    <tr>\n",
       "      <th>0</th>\n",
       "      <td>0</td>\n",
       "      <td>eady dead, maybe even wishing he was. INT. 2ND...</td>\n",
       "      <td>thriller</td>\n",
       "    </tr>\n",
       "    <tr>\n",
       "      <th>1</th>\n",
       "      <td>2</td>\n",
       "      <td>t, summa cum laude and all. And I'm about to l...</td>\n",
       "      <td>comedy</td>\n",
       "    </tr>\n",
       "    <tr>\n",
       "      <th>2</th>\n",
       "      <td>3</td>\n",
       "      <td>up Come, I have a surprise.... She takes him ...</td>\n",
       "      <td>drama</td>\n",
       "    </tr>\n",
       "    <tr>\n",
       "      <th>3</th>\n",
       "      <td>4</td>\n",
       "      <td>ded by the two detectives. INT. JEFF'S APARTME...</td>\n",
       "      <td>thriller</td>\n",
       "    </tr>\n",
       "    <tr>\n",
       "      <th>4</th>\n",
       "      <td>5</td>\n",
       "      <td>nd dismounts, just as the other children reach...</td>\n",
       "      <td>drama</td>\n",
       "    </tr>\n",
       "    <tr>\n",
       "      <th>...</th>\n",
       "      <td>...</td>\n",
       "      <td>...</td>\n",
       "      <td>...</td>\n",
       "    </tr>\n",
       "    <tr>\n",
       "      <th>22574</th>\n",
       "      <td>28161</td>\n",
       "      <td>n in the world to decide what I'm going to do ...</td>\n",
       "      <td>drama</td>\n",
       "    </tr>\n",
       "    <tr>\n",
       "      <th>22575</th>\n",
       "      <td>28162</td>\n",
       "      <td>shards. BOJO LAZ! Laz pushes Deke back through...</td>\n",
       "      <td>drama</td>\n",
       "    </tr>\n",
       "    <tr>\n",
       "      <th>22576</th>\n",
       "      <td>28163</td>\n",
       "      <td>OTTIE You've got a thing about Ernie's, haven'...</td>\n",
       "      <td>thriller</td>\n",
       "    </tr>\n",
       "    <tr>\n",
       "      <th>22577</th>\n",
       "      <td>28165</td>\n",
       "      <td>....with marked skill and dexterity . LANA wry...</td>\n",
       "      <td>action</td>\n",
       "    </tr>\n",
       "    <tr>\n",
       "      <th>22578</th>\n",
       "      <td>28166</td>\n",
       "      <td>rd walks off down the hallway, leaving his pos...</td>\n",
       "      <td>comedy</td>\n",
       "    </tr>\n",
       "  </tbody>\n",
       "</table>\n",
       "<p>22579 rows × 3 columns</p>\n",
       "</div>"
      ],
      "text/plain": [
       "          id                                               text     genre\n",
       "0          0  eady dead, maybe even wishing he was. INT. 2ND...  thriller\n",
       "1          2  t, summa cum laude and all. And I'm about to l...    comedy\n",
       "2          3   up Come, I have a surprise.... She takes him ...     drama\n",
       "3          4  ded by the two detectives. INT. JEFF'S APARTME...  thriller\n",
       "4          5  nd dismounts, just as the other children reach...     drama\n",
       "...      ...                                                ...       ...\n",
       "22574  28161  n in the world to decide what I'm going to do ...     drama\n",
       "22575  28162  shards. BOJO LAZ! Laz pushes Deke back through...     drama\n",
       "22576  28163  OTTIE You've got a thing about Ernie's, haven'...  thriller\n",
       "22577  28165  ....with marked skill and dexterity . LANA wry...    action\n",
       "22578  28166  rd walks off down the hallway, leaving his pos...    comedy\n",
       "\n",
       "[22579 rows x 3 columns]"
      ]
     },
     "execution_count": 2,
     "metadata": {},
     "output_type": "execute_result"
    }
   ],
   "source": [
    "df = pd.read_csv(\"E:\\Downlload\\Movie-Genre-Prediction-Deployment-master\\kaggle_movie_train.csv\")\n",
    "df"
   ]
  },
  {
   "cell_type": "code",
   "execution_count": 3,
   "metadata": {},
   "outputs": [
    {
     "data": {
      "text/plain": [
       "id       0\n",
       "text     0\n",
       "genre    0\n",
       "dtype: int64"
      ]
     },
     "execution_count": 3,
     "metadata": {},
     "output_type": "execute_result"
    }
   ],
   "source": [
    "df.isna().sum()"
   ]
  },
  {
   "cell_type": "code",
   "execution_count": 4,
   "metadata": {},
   "outputs": [
    {
     "name": "stdout",
     "output_type": "stream",
     "text": [
      "Summary statistics of numerical features : \n",
      "                  id\n",
      "count  22579.000000\n",
      "mean   14134.852651\n",
      "std     8132.614667\n",
      "min        0.000000\n",
      "25%     7096.500000\n",
      "50%    14168.000000\n",
      "75%    21159.000000\n",
      "max    28166.000000\n",
      "=======================================================================\n",
      "\n",
      "Total number of Story:  22579\n",
      "=======================================================================\n",
      "\n",
      "Total number of genre:  9\n"
     ]
    }
   ],
   "source": [
    "print(\"Summary statistics of numerical features : \\n\", df.describe())\n",
    "\n",
    "print(\"=======================================================================\")\n",
    "\n",
    "print(\"\\nTotal number of Story: \",len(df))\n",
    "\n",
    "print(\"=======================================================================\")\n",
    "\n",
    "print(\"\\nTotal number of genre: \", len(list(set(df['genre']))))"
   ]
  },
  {
   "cell_type": "code",
   "execution_count": 5,
   "metadata": {},
   "outputs": [
    {
     "data": {
      "text/plain": [
       "drama        8873\n",
       "thriller     6824\n",
       "comedy       2941\n",
       "action       2392\n",
       "sci-fi        613\n",
       "horror        456\n",
       "other         270\n",
       "adventure     147\n",
       "romance        63\n",
       "Name: genre, dtype: int64"
      ]
     },
     "execution_count": 5,
     "metadata": {},
     "output_type": "execute_result"
    }
   ],
   "source": [
    "df['genre'].value_counts()"
   ]
  },
  {
   "cell_type": "code",
   "execution_count": 6,
   "metadata": {},
   "outputs": [],
   "source": [
    "def encode_genre(genre):\n",
    "    if genre == \"drama\":\n",
    "        return 4\n",
    "    elif genre == \"thriller\":\n",
    "        return 3\n",
    "    elif genre == \"comedy\":\n",
    "        return 2\n",
    "    elif genre == \"action\":\n",
    "        return 1\n",
    "    elif genre == \"sci-fi\":\n",
    "        return 3\n",
    "    elif genre == \"horror\":\n",
    "        return 3\n",
    "    elif genre == \"other\":\n",
    "        return 1\n",
    "    elif genre == \"adventure\":\n",
    "        return 4\n",
    "    elif genre == \"romance\":\n",
    "        return 4\n",
    "df['genre'] = df['genre'].apply(encode_genre)"
   ]
  },
  {
   "cell_type": "code",
   "execution_count": 7,
   "metadata": {},
   "outputs": [
    {
     "data": {
      "text/html": [
       "<div>\n",
       "<style scoped>\n",
       "    .dataframe tbody tr th:only-of-type {\n",
       "        vertical-align: middle;\n",
       "    }\n",
       "\n",
       "    .dataframe tbody tr th {\n",
       "        vertical-align: top;\n",
       "    }\n",
       "\n",
       "    .dataframe thead th {\n",
       "        text-align: right;\n",
       "    }\n",
       "</style>\n",
       "<table border=\"1\" class=\"dataframe\">\n",
       "  <thead>\n",
       "    <tr style=\"text-align: right;\">\n",
       "      <th></th>\n",
       "      <th>id</th>\n",
       "      <th>text</th>\n",
       "      <th>genre</th>\n",
       "    </tr>\n",
       "  </thead>\n",
       "  <tbody>\n",
       "    <tr>\n",
       "      <th>0</th>\n",
       "      <td>0</td>\n",
       "      <td>eady dead, maybe even wishing he was. INT. 2ND...</td>\n",
       "      <td>3</td>\n",
       "    </tr>\n",
       "    <tr>\n",
       "      <th>1</th>\n",
       "      <td>2</td>\n",
       "      <td>t, summa cum laude and all. And I'm about to l...</td>\n",
       "      <td>2</td>\n",
       "    </tr>\n",
       "    <tr>\n",
       "      <th>2</th>\n",
       "      <td>3</td>\n",
       "      <td>up Come, I have a surprise.... She takes him ...</td>\n",
       "      <td>4</td>\n",
       "    </tr>\n",
       "    <tr>\n",
       "      <th>3</th>\n",
       "      <td>4</td>\n",
       "      <td>ded by the two detectives. INT. JEFF'S APARTME...</td>\n",
       "      <td>3</td>\n",
       "    </tr>\n",
       "    <tr>\n",
       "      <th>4</th>\n",
       "      <td>5</td>\n",
       "      <td>nd dismounts, just as the other children reach...</td>\n",
       "      <td>4</td>\n",
       "    </tr>\n",
       "    <tr>\n",
       "      <th>...</th>\n",
       "      <td>...</td>\n",
       "      <td>...</td>\n",
       "      <td>...</td>\n",
       "    </tr>\n",
       "    <tr>\n",
       "      <th>22574</th>\n",
       "      <td>28161</td>\n",
       "      <td>n in the world to decide what I'm going to do ...</td>\n",
       "      <td>4</td>\n",
       "    </tr>\n",
       "    <tr>\n",
       "      <th>22575</th>\n",
       "      <td>28162</td>\n",
       "      <td>shards. BOJO LAZ! Laz pushes Deke back through...</td>\n",
       "      <td>4</td>\n",
       "    </tr>\n",
       "    <tr>\n",
       "      <th>22576</th>\n",
       "      <td>28163</td>\n",
       "      <td>OTTIE You've got a thing about Ernie's, haven'...</td>\n",
       "      <td>3</td>\n",
       "    </tr>\n",
       "    <tr>\n",
       "      <th>22577</th>\n",
       "      <td>28165</td>\n",
       "      <td>....with marked skill and dexterity . LANA wry...</td>\n",
       "      <td>1</td>\n",
       "    </tr>\n",
       "    <tr>\n",
       "      <th>22578</th>\n",
       "      <td>28166</td>\n",
       "      <td>rd walks off down the hallway, leaving his pos...</td>\n",
       "      <td>2</td>\n",
       "    </tr>\n",
       "  </tbody>\n",
       "</table>\n",
       "<p>22579 rows × 3 columns</p>\n",
       "</div>"
      ],
      "text/plain": [
       "          id                                               text  genre\n",
       "0          0  eady dead, maybe even wishing he was. INT. 2ND...      3\n",
       "1          2  t, summa cum laude and all. And I'm about to l...      2\n",
       "2          3   up Come, I have a surprise.... She takes him ...      4\n",
       "3          4  ded by the two detectives. INT. JEFF'S APARTME...      3\n",
       "4          5  nd dismounts, just as the other children reach...      4\n",
       "...      ...                                                ...    ...\n",
       "22574  28161  n in the world to decide what I'm going to do ...      4\n",
       "22575  28162  shards. BOJO LAZ! Laz pushes Deke back through...      4\n",
       "22576  28163  OTTIE You've got a thing about Ernie's, haven'...      3\n",
       "22577  28165  ....with marked skill and dexterity . LANA wry...      1\n",
       "22578  28166  rd walks off down the hallway, leaving his pos...      2\n",
       "\n",
       "[22579 rows x 3 columns]"
      ]
     },
     "execution_count": 7,
     "metadata": {},
     "output_type": "execute_result"
    }
   ],
   "source": [
    "df"
   ]
  },
  {
   "cell_type": "code",
   "execution_count": 8,
   "metadata": {},
   "outputs": [
    {
     "data": {
      "image/png": "[encoded data removed]",
      "text/plain": [
       "<Figure size 864x360 with 1 Axes>"
      ]
     },
     "metadata": {
      "needs_background": "light"
     },
     "output_type": "display_data"
    }
   ],
   "source": [
    "plt.figure(figsize=(12,5))\n",
    "# sns.countplot(df['Rating'])\n",
    "df['genre'].value_counts().sort_index().plot(kind='bar',color = 'blue')\n",
    "plt.title('Distribution of genre')\n",
    "plt.grid()\n",
    "plt.xlabel('genre')\n",
    "plt.ylabel('Count')\n",
    "ax = plt.axes()\n",
    "ax.set_facecolor(\"white\")"
   ]
  },
  {
   "cell_type": "code",
   "execution_count": 9,
   "metadata": {},
   "outputs": [],
   "source": [
    "df = df.sample(frac=0.1, random_state=0) "
   ]
  },
  {
   "cell_type": "code",
   "execution_count": 10,
   "metadata": {},
   "outputs": [
    {
     "name": "stdout",
     "output_type": "stream",
     "text": [
      "Load 2032 training examples and 226 validation examples. \n",
      "\n",
      "Show a review in the training set : \n",
      " , panting through a glaze of clean sweat. Mike and Lorraine smile and look into each other's eyes. The smile slowly disappears. Will they kiss? They're close. Really close. Lips almost touching. Mike tries to muster up the courage, but it's been so long. He can't do it. He lets her up. The floor clears. Exhausted dancers push past them. Forget it. The moment's gone. What the hell. They had a great time. What's the hurry? SOFT CUT TO EXT. LA BREA AVENUE OUTSIDE THE DERBY NIGHT Mike is walking Lorraine to her car. They come upon a parked Escort. LORRAINE Well... This is it. MIKE Listen. I had a great time. LORRAINE Me too. MIKE I would love to see you again sometime. LORRAINE I'll be around. MIKE That's not good enough. I want to make plans to see you. LORRAINE Let me get a pen out of my car. opens the door Do you have something to write on? Mike hands her a business card. LORRAINE looking at it You're a comedian? MIKE Yeah. And an actor. LORRAINE I'll have to come see you sometime. MIKE\n"
     ]
    },
    {
     "data": {
      "text/plain": [
       "(5762     lly going out? On a school night, no less. Kat...\n",
       " 6801     ing, but Claudia looks at him so pleadingly an...\n",
       " 17276    Plissken... CUERVO JONES Do you know what they...\n",
       " 19303    r and glancing every so often at the clock on ...\n",
       " 14397    sheer size of this place dwarfs any of the fac...\n",
       "                                ...                        \n",
       " 11784    Red Cross. GENERAL MANN Who's the General Dire...\n",
       " 11547    asant dreams. CHRISTY Wait. No. You're kidding...\n",
       " 17074    her head How long? LILA Last Friday. She left ...\n",
       " 5069     TT I have 500 shares of Bryant Utilities that ...\n",
       " 11249     some of the conflicting views held by many of...\n",
       " Name: text, Length: 2032, dtype: object,\n",
       " 5762     2\n",
       " 6801     4\n",
       " 17276    3\n",
       " 19303    4\n",
       " 14397    3\n",
       "         ..\n",
       " 11784    3\n",
       " 11547    2\n",
       " 17074    4\n",
       " 5069     4\n",
       " 11249    3\n",
       " Name: genre, Length: 2032, dtype: int64)"
      ]
     },
     "execution_count": 10,
     "metadata": {},
     "output_type": "execute_result"
    }
   ],
   "source": [
    "from sklearn.model_selection import train_test_split\n",
    "X_train, X_test, y_train, y_test = train_test_split(df['text'], df['genre'], \\\n",
    "                                                    test_size=0.1, random_state=0)\n",
    "\n",
    "print('Load %d training examples and %d validation examples. \\n' %(X_train.shape[0],X_test.shape[0]))\n",
    "print('Show a review in the training set : \\n', X_train.iloc[10])\n",
    "X_train,y_train"
   ]
  },
  {
   "cell_type": "markdown",
   "metadata": {},
   "source": [
    "# Bag of Words\n",
    "<br>\n",
    "\n",
    "**Step 1 : Preprocess raw reviews to cleaned reviews**\n",
    "\n",
    "**Step 2 : Create BoW using CountVectorizer / Tfidfvectorizer in sklearn**\n",
    "\n",
    "**Step 3 : Transform review text to numerical representations (feature vectors)**\n",
    "\n",
    "**Step 4 : Fit feature vectors to supervised learning algorithm (eg. Naive Bayes, Logistic regression, etc.)**\n",
    "\n",
    "**Step 5 : Improve the model performance by GridSearch**\n",
    "\n",
    "# Text Preprocessing\n",
    "<br>\n",
    "\n",
    "**Step 1 : remove html tags using BeautifulSoup**\n",
    "\n",
    "**Step 2 : remove non-character such as digits and symbols**\n",
    "\n",
    "**Step 3 : convert to lower case**\n",
    "\n",
    "**Step 4 : remove stop words such as \"the\" and \"and\" if needed**\n",
    "\n",
    "**Step 5 : convert to root words by stemming if needed**"
   ]
  },
  {
   "cell_type": "code",
   "execution_count": 11,
   "metadata": {},
   "outputs": [],
   "source": [
    "def cleanText(raw_text, remove_stopwords=False, stemming=False, split_text=False, \\\n",
    "             ):\n",
    "    '''\n",
    "    Convert a raw review to a cleaned review\n",
    "    '''\n",
    "    text = BeautifulSoup(raw_text, 'html.parser').get_text()\n",
    "    letters_only = re.sub(\"[^a-zA-Z]\", \" \", text)\n",
    "    words = letters_only.lower().split() \n",
    "    \n",
    "    if remove_stopwords:\n",
    "        stops = set(stopwords.words(\"english\"))\n",
    "        words = [w for w in words if not w in stops]\n",
    "        \n",
    "    if stemming==True:\n",
    "\n",
    "        stemmer = SnowballStemmer('english') \n",
    "        words = [stemmer.stem(w) for w in words]\n",
    "        \n",
    "    if split_text==True:\n",
    "        return (words)\n",
    "    \n",
    "    return( \" \".join(words))"
   ]
  },
  {
   "cell_type": "code",
   "execution_count": 12,
   "metadata": {},
   "outputs": [
    {
     "name": "stdout",
     "output_type": "stream",
     "text": [
      "Show a cleaned review in the training set : \n",
      " panting through a glaze of clean sweat mike and lorraine smile and look into each other s eyes the smile slowly disappears will they kiss they re close really close lips almost touching mike tries to muster up the courage but it s been so long he can t do it he lets her up the floor clears exhausted dancers push past them forget it the moment s gone what the hell they had a great time what s the hurry soft cut to ext la brea avenue outside the derby night mike is walking lorraine to her car they come upon a parked escort lorraine well this is it mike listen i had a great time lorraine me too mike i would love to see you again sometime lorraine i ll be around mike that s not good enough i want to make plans to see you lorraine let me get a pen out of my car opens the door do you have something to write on mike hands her a business card lorraine looking at it you re a comedian mike yeah and an actor lorraine i ll have to come see you sometime mike\n"
     ]
    }
   ],
   "source": [
    "import re\n",
    "import nltk\n",
    "from nltk.corpus import stopwords \n",
    "from nltk.stem.porter import PorterStemmer\n",
    "from nltk.stem import SnowballStemmer, WordNetLemmatizer\n",
    "from nltk import sent_tokenize, word_tokenize, pos_tag\n",
    "from bs4 import BeautifulSoup \n",
    "import logging\n",
    "from wordcloud import WordCloud\n",
    "from gensim.models import word2vec\n",
    "from gensim.models import Word2Vec\n",
    "from gensim.models.keyedvectors import KeyedVectors\n",
    "\n",
    "X_train_cleaned = []\n",
    "X_test_cleaned = []\n",
    "\n",
    "for d in X_train:\n",
    "    X_train_cleaned.append(cleanText(d))\n",
    "print('Show a cleaned review in the training set : \\n',  X_train_cleaned[10])\n",
    "    \n",
    "for d in X_test:\n",
    "    X_test_cleaned.append(cleanText(d))"
   ]
  },
  {
   "cell_type": "markdown",
   "metadata": {},
   "source": [
    "## CountVectorizer with Mulinomial Naive Bayes (Benchmark Model)"
   ]
  },
  {
   "cell_type": "code",
   "execution_count": 13,
   "metadata": {},
   "outputs": [
    {
     "name": "stdout",
     "output_type": "stream",
     "text": [
      "Number of features : 22638 \n",
      "\n",
      "Show some feature names : \n",
      " ['aaaaaaaaaaaaaaaaaaaaaaaaaah', 'assistants', 'blvd', 'cell', 'congressional', 'defends', 'duh', 'fairly', 'gals', 'hating', 'industrial', 'krauts', 'malcolm', 'mouthpieces', 'outcasts', 'poke', 'reassurance', 'safely', 'silly', 'starred', 'teenager', 'ua', 'weirdly']\n"
     ]
    }
   ],
   "source": [
    "from sklearn.feature_extraction.text import CountVectorizer,TfidfVectorizer\n",
    "from sklearn.naive_bayes import BernoulliNB, MultinomialNB\n",
    "countVect = CountVectorizer() \n",
    "X_train_countVect = countVect.fit_transform(X_train_cleaned)\n",
    "print(\"Number of features : %d \\n\" %len(countVect.get_feature_names())) #6378 \n",
    "print(\"Show some feature names : \\n\", countVect.get_feature_names()[::1000])"
   ]
  },
  {
   "cell_type": "code",
   "execution_count": 14,
   "metadata": {},
   "outputs": [
    {
     "data": {
      "text/plain": [
       "((2032, 22638), (2032,))"
      ]
     },
     "execution_count": 14,
     "metadata": {},
     "output_type": "execute_result"
    }
   ],
   "source": [
    "X_train_countVect.shape,y_train.shape"
   ]
  },
  {
   "cell_type": "code",
   "execution_count": 15,
   "metadata": {},
   "outputs": [],
   "source": [
    "# from imblearn.over_sampling import SMOTE\n",
    "# smote = SMOTE()\n",
    "# x_train_smote, y_train_smote = smote.fit_sample(X_train_countVect,y_train)\n",
    "# # from collections import Counter\n",
    "# # print(\"Before smote:\",Counter(X_train_countVect))\n",
    "# # print(\"After smote:\",Counter(x_train_smote))"
   ]
  },
  {
   "cell_type": "code",
   "execution_count": 16,
   "metadata": {},
   "outputs": [
    {
     "data": {
      "text/plain": [
       "MultinomialNB(alpha=1.0, class_prior=None, fit_prior=True)"
      ]
     },
     "execution_count": 16,
     "metadata": {},
     "output_type": "execute_result"
    }
   ],
   "source": [
    "# Train MultinomialNB classifier\n",
    "mnb = MultinomialNB()\n",
    "mnb.fit(X_train_countVect, y_train)"
   ]
  },
  {
   "cell_type": "code",
   "execution_count": 17,
   "metadata": {},
   "outputs": [],
   "source": [
    "from sklearn import metrics\n",
    "from sklearn.metrics import accuracy_score,roc_auc_score\n",
    "def modelEvaluation(predictions):\n",
    "    '''\n",
    "    Print model evaluation to predicted result \n",
    "    '''\n",
    "    print (\"\\nAccuracy on validation set: {:.4f}\".format(accuracy_score(y_test, predictions)))\n",
    "    #print(\"\\nAUC score : {:.4f}\".format(roc_auc_score(y_test, predictions)))\n",
    "    print(\"\\nClassification report : \\n\", metrics.classification_report(y_test, predictions))\n",
    "    print(\"\\nConfusion Matrix : \\n\", metrics.confusion_matrix(y_test, predictions))"
   ]
  },
  {
   "cell_type": "code",
   "execution_count": 18,
   "metadata": {},
   "outputs": [
    {
     "name": "stdout",
     "output_type": "stream",
     "text": [
      "\n",
      "Accuracy on validation set: 0.8053\n",
      "\n",
      "Classification report : \n",
      "               precision    recall  f1-score   support\n",
      "\n",
      "           1       1.00      0.57      0.72        23\n",
      "           2       1.00      0.35      0.51        26\n",
      "           3       0.79      0.88      0.83        80\n",
      "           4       0.78      0.93      0.85        97\n",
      "\n",
      "    accuracy                           0.81       226\n",
      "   macro avg       0.89      0.68      0.73       226\n",
      "weighted avg       0.83      0.81      0.79       226\n",
      "\n",
      "\n",
      "Confusion Matrix : \n",
      " [[13  0  6  4]\n",
      " [ 0  9  6 11]\n",
      " [ 0  0 70 10]\n",
      " [ 0  0  7 90]]\n"
     ]
    }
   ],
   "source": [
    "predictions = mnb.predict(countVect.transform(X_test_cleaned))\n",
    "modelEvaluation(predictions)"
   ]
  },
  {
   "cell_type": "code",
   "execution_count": 19,
   "metadata": {},
   "outputs": [],
   "source": [
    "import pickle\n",
    "pickle.dump(mnb,open('Naive_Bayes_model.pkl','wb'))"
   ]
  },
  {
   "cell_type": "code",
   "execution_count": 20,
   "metadata": {},
   "outputs": [],
   "source": [
    "import pickle\n",
    "pickle.dump(countVect,open('countVect_Genre.pkl','wb'))"
   ]
  },
  {
   "cell_type": "markdown",
   "metadata": {},
   "source": [
    "# TfidfVectorizer with Logistic Regression"
   ]
  },
  {
   "cell_type": "code",
   "execution_count": 21,
   "metadata": {},
   "outputs": [
    {
     "name": "stdout",
     "output_type": "stream",
     "text": [
      "Number of features : 5428 \n",
      "\n",
      "Show some feature names : \n",
      " ['00', 'color', 'genius', 'meeting', 'rush', 'tremble']\n"
     ]
    }
   ],
   "source": [
    "from sklearn.naive_bayes import BernoulliNB, MultinomialNB\n",
    "from sklearn.linear_model import LogisticRegression\n",
    "from sklearn.feature_extraction.text import CountVectorizer,TfidfVectorizer\n",
    "tfidf = TfidfVectorizer(min_df=5) #minimum document frequency of 5\n",
    "X_train_tfidf = tfidf.fit_transform(X_train)\n",
    "print(\"Number of features : %d \\n\" %len(tfidf.get_feature_names())) #1722\n",
    "print(\"Show some feature names : \\n\", tfidf.get_feature_names()[::1000])"
   ]
  },
  {
   "cell_type": "code",
   "execution_count": 22,
   "metadata": {},
   "outputs": [
    {
     "data": {
      "text/plain": [
       "LogisticRegression(C=1.0, class_weight=None, dual=False, fit_intercept=True,\n",
       "                   intercept_scaling=1, l1_ratio=None, max_iter=100,\n",
       "                   multi_class='auto', n_jobs=None, penalty='l2',\n",
       "                   random_state=None, solver='lbfgs', tol=0.0001, verbose=0,\n",
       "                   warm_start=False)"
      ]
     },
     "execution_count": 22,
     "metadata": {},
     "output_type": "execute_result"
    }
   ],
   "source": [
    "lr = LogisticRegression()\n",
    "lr.fit(X_train_tfidf, y_train)"
   ]
  },
  {
   "cell_type": "code",
   "execution_count": 23,
   "metadata": {},
   "outputs": [
    {
     "name": "stdout",
     "output_type": "stream",
     "text": [
      "\n",
      "Accuracy on validation set: 0.6858\n",
      "\n",
      "Classification report : \n",
      "               precision    recall  f1-score   support\n",
      "\n",
      "           1       1.00      0.48      0.65        23\n",
      "           2       0.86      0.23      0.36        26\n",
      "           3       0.68      0.69      0.68        80\n",
      "           4       0.65      0.86      0.74        97\n",
      "\n",
      "    accuracy                           0.69       226\n",
      "   macro avg       0.80      0.56      0.61       226\n",
      "weighted avg       0.72      0.69      0.67       226\n",
      "\n",
      "\n",
      "Confusion Matrix : \n",
      " [[11  0  7  5]\n",
      " [ 0  6  6 14]\n",
      " [ 0  0 55 25]\n",
      " [ 0  1 13 83]]\n"
     ]
    }
   ],
   "source": [
    "predictions = lr.predict(tfidf.transform(X_test_cleaned))\n",
    "modelEvaluation(predictions)"
   ]
  },
  {
   "cell_type": "code",
   "execution_count": null,
   "metadata": {},
   "outputs": [],
   "source": []
  },
  {
   "cell_type": "code",
   "execution_count": null,
   "metadata": {},
   "outputs": [],
   "source": []
  },
  {
   "cell_type": "code",
   "execution_count": null,
   "metadata": {},
   "outputs": [],
   "source": []
  },
  {
   "cell_type": "code",
   "execution_count": null,
   "metadata": {},
   "outputs": [],
   "source": []
  },
  {
   "cell_type": "code",
   "execution_count": null,
   "metadata": {},
   "outputs": [],
   "source": []
  },
  {
   "cell_type": "code",
   "execution_count": null,
   "metadata": {},
   "outputs": [],
   "source": []
  },
  {
   "cell_type": "code",
   "execution_count": null,
   "metadata": {},
   "outputs": [],
   "source": []
  },
  {
   "cell_type": "code",
   "execution_count": null,
   "metadata": {},
   "outputs": [],
   "source": []
  },
  {
   "cell_type": "code",
   "execution_count": null,
   "metadata": {},
   "outputs": [],
   "source": []
  },
  {
   "cell_type": "code",
   "execution_count": null,
   "metadata": {},
   "outputs": [],
   "source": []
  },
  {
   "cell_type": "code",
   "execution_count": null,
   "metadata": {},
   "outputs": [],
   "source": []
  },
  {
   "cell_type": "code",
   "execution_count": null,
   "metadata": {},
   "outputs": [],
   "source": []
  },
  {
   "cell_type": "code",
   "execution_count": null,
   "metadata": {},
   "outputs": [],
   "source": []
  },
  {
   "cell_type": "code",
   "execution_count": null,
   "metadata": {},
   "outputs": [],
   "source": []
  },
  {
   "cell_type": "code",
   "execution_count": null,
   "metadata": {},
   "outputs": [],
   "source": []
  },
  {
   "cell_type": "code",
   "execution_count": null,
   "metadata": {},
   "outputs": [],
   "source": []
  },
  {
   "cell_type": "code",
   "execution_count": null,
   "metadata": {},
   "outputs": [],
   "source": []
  },
  {
   "cell_type": "code",
   "execution_count": null,
   "metadata": {},
   "outputs": [],
   "source": []
  }
 ],
 "metadata": {
  "kernelspec": {
   "display_name": "Python 3",
   "language": "python",
   "name": "python3"
  },
  "language_info": {
   "codemirror_mode": {
    "name": "ipython",
    "version": 3
   },
   "file_extension": ".py",
   "mimetype": "text/x-python",
   "name": "python",
   "nbconvert_exporter": "python",
   "pygments_lexer": "ipython3",
   "version": "3.7.7"
  }
 },
 "nbformat": 4,
 "nbformat_minor": 4
}
